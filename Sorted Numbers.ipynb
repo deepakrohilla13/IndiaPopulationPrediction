{
 "cells": [
  {
   "cell_type": "code",
   "execution_count": 40,
   "metadata": {
    "collapsed": false
   },
   "outputs": [],
   "source": [
    "from random import randint"
   ]
  },
  {
   "cell_type": "code",
   "execution_count": 41,
   "metadata": {
    "collapsed": false
   },
   "outputs": [],
   "source": [
    "random_list = [randint(0,1000) for _ in range(100)]"
   ]
  },
  {
   "cell_type": "code",
   "execution_count": 42,
   "metadata": {
    "collapsed": false
   },
   "outputs": [],
   "source": [
    "def binary_search(number, array, lo, hi):\n",
    "    if hi < lo: return -1       # no more numbers\n",
    "    mid = (lo + hi) // 2        # midpoint in array\n",
    "    if number == array[mid]:\n",
    "        return mid                  # number found here\n",
    "    elif number < array[mid]:\n",
    "        return binary_search(number, array, lo, mid - 1)     # try left of here\n",
    "    else:\n",
    "        return binary_search(number, array, mid + 1, hi)     # try above here"
   ]
  },
  {
   "cell_type": "code",
   "execution_count": 43,
   "metadata": {
    "collapsed": false
   },
   "outputs": [],
   "source": [
    "def get_elements(anum, array):\n",
    "    idx = binary_search(anum, array, 0, len(array) - 1)\n",
    "    if idx == 0:\n",
    "        return [array[idx+1]]\n",
    "    elif idx == len(array)-1: \n",
    "        return [array[idx-1]]\n",
    "    else:\n",
    "        return [array[idx-1],array[idx+1]]"
   ]
  },
  {
   "cell_type": "code",
   "execution_count": 44,
   "metadata": {
    "collapsed": false
   },
   "outputs": [
    {
     "name": "stdout",
     "output_type": "stream",
     "text": [
      "[114, 475]\n"
     ]
    }
   ],
   "source": [
    "print(get_elements(996,random_list))"
   ]
  }
 ],
 "metadata": {
  "anaconda-cloud": {},
  "kernelspec": {
   "display_name": "Python [conda env:p]",
   "language": "python",
   "name": "conda-env-p-py"
  },
  "language_info": {
   "codemirror_mode": {
    "name": "ipython",
    "version": 2
   },
   "file_extension": ".py",
   "mimetype": "text/x-python",
   "name": "python",
   "nbconvert_exporter": "python",
   "pygments_lexer": "ipython2",
   "version": "2.7.12"
  }
 },
 "nbformat": 4,
 "nbformat_minor": 1
}
